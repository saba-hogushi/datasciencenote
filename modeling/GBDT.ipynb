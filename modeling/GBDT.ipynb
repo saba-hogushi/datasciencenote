{
 "cells": [
  {
   "cell_type": "markdown",
   "metadata": {},
   "source": [
    "# ◆GBDT(勾配ブースティング木)\n",
    "***\n",
    "目的関数を改善するような決定木を設定した木の本数分だけ繰り返す。<br>\n",
    "二本目以降はその直前のモデルの出力値(予測値)の差に対して学習が行われていくイメージ。"
   ]
  },
  {
   "cell_type": "markdown",
   "metadata": {},
   "source": [
    "# ◆特徴\n",
    "***\n",
    "* 特徴量は数値<br>\n",
    "    ある特徴量の値の大小で分類していくためすべて数値である必要がある。<br>\n",
    "    <br>\n",
    "* 欠損値を扱える<br>\n",
    "    決定木で欠損は欠損で分けることができるため特徴量に欠損が入ってても問題ない。<br>\n",
    "<br>\n",
    "* 変数間の相互作用が反映される<br>\n",
    "    分岐が繰り返されることにより、変数間の相互作用が反映される<br>\n",
    "    例)男性かどうかという分岐の後に20歳以上かという分岐があれば男性で20歳以上という様に相互作用が反映<br>\n",
    "<br>\n",
    "* 特徴量をスケーリングする必要がない<br>\n",
    "    それぞれの特徴量の大小関係を見るためスケールは関係ない。<br>\n",
    "<br>\n",
    "* カテゴリ変数をOne-Hotに展開する必要がない<br>\n",
    "    数値である必要があるためlabel encodingはする必要がある。<br>"
   ]
  },
  {
   "cell_type": "markdown",
   "metadata": {},
   "source": [
    "# ◆主なライブラリ\n",
    "***\n",
    "GBDTのアルゴリズムを用いているライブラリには以下のものがある。\n",
    "\n",
    "* xgboost\n",
    "* lightgbm\n",
    "* catboost"
   ]
  },
  {
   "cell_type": "markdown",
   "metadata": {},
   "source": [
    "## xgboost"
   ]
  },
  {
   "cell_type": "markdown",
   "metadata": {},
   "source": [
    "### 使い方の例"
   ]
  },
  {
   "cell_type": "code",
   "execution_count": null,
   "metadata": {},
   "outputs": [],
   "source": [
    "import xgboost as xgb\n",
    "from sklearn.metrcs import log_loss\n",
    "\n",
    "# 特徴量と目的変数をxgboostのデータ構造に変換する。\n",
    "dtrain = xgb.DMatrix(tr_x, label=tr_y)\n",
    "dvalid = xgb.DMatrix(va_x, label=va_y)\n",
    "dtest = xgb.DMatrix(test_x)\n",
    "\n",
    "# パラメータ設定\n",
    "params = {'objective': 'binary:logistic', 'silent':1, 'random_state':71}\n",
    "num_round =50\n",
    "\n",
    "# 学習の実行\n",
    "# バリデーションデータもモデルに渡してスコアの変化のモニタリング\n",
    "watch_list = [(dtrain, 'train'), (dvalid, 'eval')]\n",
    "model = xgb.train(params, dtrain, num_round, evals=watchlist)\n",
    "\n",
    "# バリデーションデータでのスコア確認\n",
    "va_pred = model.predict(dvalid)\n",
    "score = log_loss(va_y, va_pred)\n",
    "print(f'logloss: {score:.4f}')\n",
    "\n",
    "# 予測\n",
    "pred = model.predict(dtest)"
   ]
  },
  {
   "cell_type": "markdown",
   "metadata": {},
   "source": [
    "### その他の設定\n",
    "\n",
    "* booster指定<br>\n",
    "    デフォルトでは'gbtree'となっている。通常ではこのままでいい。<br>\n",
    "    'dart'を指定することによりDARTというアルゴリズムを使用した正則化項を適用する。<br>\n",
    "<br>\n",
    "* 目的関数<br>\n",
    "    目的関数を設定するにはパラメータ'objective'を以下の様に設定する。\n",
    "    * reg:squarederror<br>\n",
    "        回帰の場合に設定することで平均二乗誤差を最小化するように学習する。\n",
    "    * binary:ligistic<br>\n",
    "        二値分類の場合に設定することでloglossを最小化するように学習を行う。\n",
    "    * multi:softprob<br>\n",
    "        マルチクラス分類の場合に設定することでmulti-class loglossを最小化するように学習を行う。\n",
    "<br>\n",
    "* バリデーション<br>\n",
    "    trainメソッドのevalsパラメータに学習データとバリデーションデータを渡すことで決定木を追加するごとにバリデーションデータへのスコアを出力する"
   ]
  },
  {
   "cell_type": "markdown",
   "metadata": {},
   "source": [
    "### アーリーストッピング\n",
    "trainメソッドのearly_stopping_roundsパラメータを指定することで、アーリーストッピングを行うことができる。<br>\n",
    "\n",
    "※アーリーストッピングを行う場合、予測時にntree_limitパラメータを設定しないと最適ではなく学習が止まったところまでで予測を行ってしまう。"
   ]
  },
  {
   "cell_type": "markdown",
   "metadata": {},
   "source": []
  },
  {
   "cell_type": "markdown",
   "metadata": {},
   "source": []
  },
  {
   "cell_type": "markdown",
   "metadata": {},
   "source": []
  },
  {
   "cell_type": "markdown",
   "metadata": {},
   "source": []
  },
  {
   "cell_type": "markdown",
   "metadata": {},
   "source": []
  },
  {
   "cell_type": "markdown",
   "metadata": {},
   "source": []
  },
  {
   "cell_type": "markdown",
   "metadata": {},
   "source": []
  },
  {
   "cell_type": "markdown",
   "metadata": {},
   "source": []
  },
  {
   "cell_type": "markdown",
   "metadata": {},
   "source": []
  },
  {
   "cell_type": "markdown",
   "metadata": {},
   "source": []
  },
  {
   "cell_type": "markdown",
   "metadata": {},
   "source": []
  },
  {
   "cell_type": "markdown",
   "metadata": {},
   "source": []
  },
  {
   "cell_type": "markdown",
   "metadata": {},
   "source": []
  },
  {
   "cell_type": "markdown",
   "metadata": {},
   "source": []
  },
  {
   "cell_type": "markdown",
   "metadata": {},
   "source": []
  }
 ],
 "metadata": {
  "kernelspec": {
   "display_name": "Python 3",
   "language": "python",
   "name": "python3"
  },
  "language_info": {
   "codemirror_mode": {
    "name": "ipython",
    "version": 3
   },
   "file_extension": ".py",
   "mimetype": "text/x-python",
   "name": "python",
   "nbconvert_exporter": "python",
   "pygments_lexer": "ipython3",
   "version": "3.7.4"
  }
 },
 "nbformat": 4,
 "nbformat_minor": 2
}
